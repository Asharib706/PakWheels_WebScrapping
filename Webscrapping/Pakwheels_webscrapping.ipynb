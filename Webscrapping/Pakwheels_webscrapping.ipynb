{
  "nbformat": 4,
  "nbformat_minor": 0,
  "metadata": {
    "colab": {
      "provenance": [],
      "gpuType": "T4"
    },
    "kernelspec": {
      "name": "python3",
      "display_name": "Python 3"
    },
    "language_info": {
      "name": "python"
    },
    "accelerator": "GPU"
  },
  "cells": [
    {
      "cell_type": "code",
      "source": [
        "import requests\n",
        "from bs4 import BeautifulSoup"
      ],
      "metadata": {
        "id": "5yxuSeZFbfbj"
      },
      "execution_count": 1,
      "outputs": []
    },
    {
      "cell_type": "code",
      "source": [
        "import json\n",
        "data=[]\n",
        "for pg in range(1,402):\n",
        "  url=f'https://www.pakwheels.com/used-cars/search/-/?page={pg}'\n",
        "  request=requests.get(url)\n",
        "  request=request.content\n",
        "  soup=BeautifulSoup(request,'html.parser')\n",
        "  script=soup.find_all('script',type=\"application/ld+json\")[1:]\n",
        "  for i in script:\n",
        "    a=json.loads(i.text.strip())\n",
        "    Name=a['name'].split()[0:2]\n",
        "    Type=a['@type'][1]\n",
        "    brand=a['manufacturer']\n",
        "    modelDate=a['modelDate']\n",
        "    fuelType=a['fuelType']\n",
        "    Transmission=a['vehicleTransmission']\n",
        "    mileage=a['mileageFromOdometer']\n",
        "    engine=a['vehicleEngine']['engineDisplacement']\n",
        "    price=a['offers']['price']\n",
        "    data.append([Name,Type,brand,modelDate,fuelType,Transmission,mileage,engine,price])\n"
      ],
      "metadata": {
        "id": "jd_aqG4fph05"
      },
      "execution_count": 2,
      "outputs": []
    },
    {
      "cell_type": "code",
      "source": [
        "len(data)"
      ],
      "metadata": {
        "colab": {
          "base_uri": "https://localhost:8080/"
        },
        "id": "fIhx-Eu9zANO",
        "outputId": "fbb07bbf-d2fa-4a77-861d-b08d7b03d15e"
      },
      "execution_count": 3,
      "outputs": [
        {
          "output_type": "execute_result",
          "data": {
            "text/plain": [
              "14286"
            ]
          },
          "metadata": {},
          "execution_count": 3
        }
      ]
    },
    {
      "cell_type": "code",
      "source": [
        "columns=[\"Name\",\"Type\",\"brand\",\"modelDate\",\"fuelType\",\"Transmission\",\"mileage\",\"engine\",\"price\"]"
      ],
      "metadata": {
        "id": "ikEOdKUUGJb1"
      },
      "execution_count": 4,
      "outputs": []
    },
    {
      "cell_type": "code",
      "source": [
        "import pandas as pd\n",
        "df=pd.DataFrame(data,columns=columns)\n",
        "df.head()"
      ],
      "metadata": {
        "colab": {
          "base_uri": "https://localhost:8080/",
          "height": 206
        },
        "id": "UtOuevdNGYpo",
        "outputId": "f86f117f-9db9-44e3-aeee-d51d37972b64"
      },
      "execution_count": 5,
      "outputs": [
        {
          "output_type": "execute_result",
          "data": {
            "text/plain": [
              "               Name Type          brand  modelDate fuelType Transmission  \\\n",
              "0  [Mercedes, Benz]  Car  Mercedes Benz       2002   Diesel    Automatic   \n",
              "1   [Suzuki, Wagon]  Car         Suzuki       2021   Petrol       Manual   \n",
              "2   [Toyota, Passo]  Car         Toyota       2018   Petrol    Automatic   \n",
              "3    [Toyota, C-HR]  Car         Toyota       2018   Hybrid    Automatic   \n",
              "4    [Toyota, Aqua]  Car         Toyota       2014   Hybrid    Automatic   \n",
              "\n",
              "      mileage  engine    price  \n",
              "0   59,000 km  3200cc  3500000  \n",
              "1   11,000 km  1000cc  2950000  \n",
              "2   57,000 km  1000cc  3500000  \n",
              "3   65,000 km  1800cc  8700000  \n",
              "4  130,000 km  1500cc  3300000  "
            ],
            "text/html": [
              "\n",
              "  <div id=\"df-a2ee9fa9-52f3-4757-b413-1077d9873e38\">\n",
              "    <div class=\"colab-df-container\">\n",
              "      <div>\n",
              "<style scoped>\n",
              "    .dataframe tbody tr th:only-of-type {\n",
              "        vertical-align: middle;\n",
              "    }\n",
              "\n",
              "    .dataframe tbody tr th {\n",
              "        vertical-align: top;\n",
              "    }\n",
              "\n",
              "    .dataframe thead th {\n",
              "        text-align: right;\n",
              "    }\n",
              "</style>\n",
              "<table border=\"1\" class=\"dataframe\">\n",
              "  <thead>\n",
              "    <tr style=\"text-align: right;\">\n",
              "      <th></th>\n",
              "      <th>Name</th>\n",
              "      <th>Type</th>\n",
              "      <th>brand</th>\n",
              "      <th>modelDate</th>\n",
              "      <th>fuelType</th>\n",
              "      <th>Transmission</th>\n",
              "      <th>mileage</th>\n",
              "      <th>engine</th>\n",
              "      <th>price</th>\n",
              "    </tr>\n",
              "  </thead>\n",
              "  <tbody>\n",
              "    <tr>\n",
              "      <th>0</th>\n",
              "      <td>[Mercedes, Benz]</td>\n",
              "      <td>Car</td>\n",
              "      <td>Mercedes Benz</td>\n",
              "      <td>2002</td>\n",
              "      <td>Diesel</td>\n",
              "      <td>Automatic</td>\n",
              "      <td>59,000 km</td>\n",
              "      <td>3200cc</td>\n",
              "      <td>3500000</td>\n",
              "    </tr>\n",
              "    <tr>\n",
              "      <th>1</th>\n",
              "      <td>[Suzuki, Wagon]</td>\n",
              "      <td>Car</td>\n",
              "      <td>Suzuki</td>\n",
              "      <td>2021</td>\n",
              "      <td>Petrol</td>\n",
              "      <td>Manual</td>\n",
              "      <td>11,000 km</td>\n",
              "      <td>1000cc</td>\n",
              "      <td>2950000</td>\n",
              "    </tr>\n",
              "    <tr>\n",
              "      <th>2</th>\n",
              "      <td>[Toyota, Passo]</td>\n",
              "      <td>Car</td>\n",
              "      <td>Toyota</td>\n",
              "      <td>2018</td>\n",
              "      <td>Petrol</td>\n",
              "      <td>Automatic</td>\n",
              "      <td>57,000 km</td>\n",
              "      <td>1000cc</td>\n",
              "      <td>3500000</td>\n",
              "    </tr>\n",
              "    <tr>\n",
              "      <th>3</th>\n",
              "      <td>[Toyota, C-HR]</td>\n",
              "      <td>Car</td>\n",
              "      <td>Toyota</td>\n",
              "      <td>2018</td>\n",
              "      <td>Hybrid</td>\n",
              "      <td>Automatic</td>\n",
              "      <td>65,000 km</td>\n",
              "      <td>1800cc</td>\n",
              "      <td>8700000</td>\n",
              "    </tr>\n",
              "    <tr>\n",
              "      <th>4</th>\n",
              "      <td>[Toyota, Aqua]</td>\n",
              "      <td>Car</td>\n",
              "      <td>Toyota</td>\n",
              "      <td>2014</td>\n",
              "      <td>Hybrid</td>\n",
              "      <td>Automatic</td>\n",
              "      <td>130,000 km</td>\n",
              "      <td>1500cc</td>\n",
              "      <td>3300000</td>\n",
              "    </tr>\n",
              "  </tbody>\n",
              "</table>\n",
              "</div>\n",
              "      <button class=\"colab-df-convert\" onclick=\"convertToInteractive('df-a2ee9fa9-52f3-4757-b413-1077d9873e38')\"\n",
              "              title=\"Convert this dataframe to an interactive table.\"\n",
              "              style=\"display:none;\">\n",
              "        \n",
              "  <svg xmlns=\"http://www.w3.org/2000/svg\" height=\"24px\"viewBox=\"0 0 24 24\"\n",
              "       width=\"24px\">\n",
              "    <path d=\"M0 0h24v24H0V0z\" fill=\"none\"/>\n",
              "    <path d=\"M18.56 5.44l.94 2.06.94-2.06 2.06-.94-2.06-.94-.94-2.06-.94 2.06-2.06.94zm-11 1L8.5 8.5l.94-2.06 2.06-.94-2.06-.94L8.5 2.5l-.94 2.06-2.06.94zm10 10l.94 2.06.94-2.06 2.06-.94-2.06-.94-.94-2.06-.94 2.06-2.06.94z\"/><path d=\"M17.41 7.96l-1.37-1.37c-.4-.4-.92-.59-1.43-.59-.52 0-1.04.2-1.43.59L10.3 9.45l-7.72 7.72c-.78.78-.78 2.05 0 2.83L4 21.41c.39.39.9.59 1.41.59.51 0 1.02-.2 1.41-.59l7.78-7.78 2.81-2.81c.8-.78.8-2.07 0-2.86zM5.41 20L4 18.59l7.72-7.72 1.47 1.35L5.41 20z\"/>\n",
              "  </svg>\n",
              "      </button>\n",
              "      \n",
              "  <style>\n",
              "    .colab-df-container {\n",
              "      display:flex;\n",
              "      flex-wrap:wrap;\n",
              "      gap: 12px;\n",
              "    }\n",
              "\n",
              "    .colab-df-convert {\n",
              "      background-color: #E8F0FE;\n",
              "      border: none;\n",
              "      border-radius: 50%;\n",
              "      cursor: pointer;\n",
              "      display: none;\n",
              "      fill: #1967D2;\n",
              "      height: 32px;\n",
              "      padding: 0 0 0 0;\n",
              "      width: 32px;\n",
              "    }\n",
              "\n",
              "    .colab-df-convert:hover {\n",
              "      background-color: #E2EBFA;\n",
              "      box-shadow: 0px 1px 2px rgba(60, 64, 67, 0.3), 0px 1px 3px 1px rgba(60, 64, 67, 0.15);\n",
              "      fill: #174EA6;\n",
              "    }\n",
              "\n",
              "    [theme=dark] .colab-df-convert {\n",
              "      background-color: #3B4455;\n",
              "      fill: #D2E3FC;\n",
              "    }\n",
              "\n",
              "    [theme=dark] .colab-df-convert:hover {\n",
              "      background-color: #434B5C;\n",
              "      box-shadow: 0px 1px 3px 1px rgba(0, 0, 0, 0.15);\n",
              "      filter: drop-shadow(0px 1px 2px rgba(0, 0, 0, 0.3));\n",
              "      fill: #FFFFFF;\n",
              "    }\n",
              "  </style>\n",
              "\n",
              "      <script>\n",
              "        const buttonEl =\n",
              "          document.querySelector('#df-a2ee9fa9-52f3-4757-b413-1077d9873e38 button.colab-df-convert');\n",
              "        buttonEl.style.display =\n",
              "          google.colab.kernel.accessAllowed ? 'block' : 'none';\n",
              "\n",
              "        async function convertToInteractive(key) {\n",
              "          const element = document.querySelector('#df-a2ee9fa9-52f3-4757-b413-1077d9873e38');\n",
              "          const dataTable =\n",
              "            await google.colab.kernel.invokeFunction('convertToInteractive',\n",
              "                                                     [key], {});\n",
              "          if (!dataTable) return;\n",
              "\n",
              "          const docLinkHtml = 'Like what you see? Visit the ' +\n",
              "            '<a target=\"_blank\" href=https://colab.research.google.com/notebooks/data_table.ipynb>data table notebook</a>'\n",
              "            + ' to learn more about interactive tables.';\n",
              "          element.innerHTML = '';\n",
              "          dataTable['output_type'] = 'display_data';\n",
              "          await google.colab.output.renderOutput(dataTable, element);\n",
              "          const docLink = document.createElement('div');\n",
              "          docLink.innerHTML = docLinkHtml;\n",
              "          element.appendChild(docLink);\n",
              "        }\n",
              "      </script>\n",
              "    </div>\n",
              "  </div>\n",
              "  "
            ]
          },
          "metadata": {},
          "execution_count": 5
        }
      ]
    },
    {
      "cell_type": "code",
      "source": [
        "df.shape"
      ],
      "metadata": {
        "colab": {
          "base_uri": "https://localhost:8080/"
        },
        "id": "wKEAn0h9Gryj",
        "outputId": "72dcc6f7-4a7d-4a19-cc30-10035c936b1d"
      },
      "execution_count": 6,
      "outputs": [
        {
          "output_type": "execute_result",
          "data": {
            "text/plain": [
              "(14286, 9)"
            ]
          },
          "metadata": {},
          "execution_count": 6
        }
      ]
    },
    {
      "cell_type": "code",
      "source": [
        "df.to_csv('pakwheels_data.csv', index=False)\n"
      ],
      "metadata": {
        "id": "et-U8bs9G5CT"
      },
      "execution_count": 7,
      "outputs": []
    }
  ]
}